{
 "cells": [
  {
   "cell_type": "markdown",
   "metadata": {},
   "source": [
    "## modules v/s packages v/s lib\n",
    "- **Module**: A single file (with a `.py` extension) that contains Python code. It can define functions, classes, and variables. A module can also include runnable code.\n",
    "- **Package**: A collection of Python modules organized in a directory hierarchy. A package must contain a special file named `__init__.py`, which can be empty or execute the initialization code for the package. Packages allow for a hierarchical structuring of the module namespace.\n",
    "- **Library**: A collection of related modules and packages that provide specific functionality. Libraries can be installed and used in Python programs to extend the capabilities of the language. Libraries are often distributed via package managers like `pip`.\n"
   ]
  },
  {
   "cell_type": "code",
   "execution_count": null,
   "metadata": {},
   "outputs": [],
   "source": [
    "import os\n",
    "print(os.getcwd())\n",
    "print(os.listdir())\n",
    "# print(os.chdir(r'C:\\Users\\Lenovo\\Desktop\\PortFolio\\portfolio'))\n",
    "print(os.getcwd())\n",
    "# os.mkdir('test')\n",
    "# os.makedirs('test1/test2')\n",
    "# os.rmdir('test')\n",
    "# os.removedirs('test1/test2')"
   ]
  }
 ],
 "metadata": {
  "kernelspec": {
   "display_name": "notebookenv",
   "language": "python",
   "name": "python3"
  },
  "language_info": {
   "codemirror_mode": {
    "name": "ipython",
    "version": 3
   },
   "file_extension": ".py",
   "mimetype": "text/x-python",
   "name": "python",
   "nbconvert_exporter": "python",
   "pygments_lexer": "ipython3",
   "version": "3.13.1"
  }
 },
 "nbformat": 4,
 "nbformat_minor": 2
}
