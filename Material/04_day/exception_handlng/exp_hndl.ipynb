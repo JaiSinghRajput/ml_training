{
 "cells": [
  {
   "cell_type": "markdown",
   "metadata": {},
   "source": [
    "## components of expception handling\n",
    "1. try\n",
    "2. except\n",
    "3. else\n",
    "4. finally"
   ]
  },
  {
   "cell_type": "code",
   "execution_count": 1,
   "metadata": {},
   "outputs": [
    {
     "name": "stdout",
     "output_type": "stream",
     "text": [
      "Hello, World!\n",
      "10.0\n",
      "No exceptions occurred.\n",
      "Continuing with the script...\n",
      "This is the else block.\n",
      "You can add more code here.\n",
      "The script is still running.\n",
      "All good so far!\n",
      "Exiting the else block.\n",
      "Continuing with the script...\n",
      "This is the end of the else block.\n",
      "This will always run.\n",
      "Goodbye, World!\n",
      "End of script.\n",
      "Exiting...\n"
     ]
    },
    {
     "ename": "",
     "evalue": "",
     "output_type": "error",
     "traceback": [
      "\u001b[1;31mThe Kernel crashed while executing code in the current cell or a previous cell. \n",
      "\u001b[1;31mPlease review the code in the cell(s) to identify a possible cause of the failure. \n",
      "\u001b[1;31mClick <a href='https://aka.ms/vscodeJupyterKernelCrash'>here</a> for more info. \n",
      "\u001b[1;31mView Jupyter <a href='command:jupyter.viewOutput'>log</a> for further details."
     ]
    }
   ],
   "source": [
    "try:\n",
    "    print(\"Hello, World!\")\n",
    "    print(10/1)\n",
    "except Exception as e:\n",
    "    print(\"An error occurred:\", e)\n",
    "else:\n",
    "    print(\"No exceptions occurred.\")\n",
    "    print(\"Continuing with the script...\")\n",
    "    print(\"This is the else block.\")\n",
    "    print(\"You can add more code here.\")\n",
    "    print(\"The script is still running.\")\n",
    "    print(\"All good so far!\")\n",
    "    print(\"Exiting the else block.\")\n",
    "    print(\"Continuing with the script...\")\n",
    "    print(\"This is the end of the else block.\")\n",
    "finally:\n",
    "    print(\"This will always run.\")\n",
    "    print(\"Goodbye, World!\")\n",
    "    print(\"End of script.\")\n",
    "    print(\"Exiting...\")\n",
    "    exit(0)"
   ]
  }
 ],
 "metadata": {
  "kernelspec": {
   "display_name": "notebookenv",
   "language": "python",
   "name": "python3"
  },
  "language_info": {
   "codemirror_mode": {
    "name": "ipython",
    "version": 3
   },
   "file_extension": ".py",
   "mimetype": "text/x-python",
   "name": "python",
   "nbconvert_exporter": "python",
   "pygments_lexer": "ipython3",
   "version": "3.13.1"
  }
 },
 "nbformat": 4,
 "nbformat_minor": 2
}
