{
 "cells": [
  {
   "cell_type": "markdown",
   "metadata": {},
   "source": [
    "### method 1 to deal with file"
   ]
  },
  {
   "cell_type": "code",
   "execution_count": 14,
   "metadata": {},
   "outputs": [
    {
     "name": "stdout",
     "output_type": "stream",
     "text": [
      "Hello World\n",
      "Hello World\n",
      "hello again\n",
      "Hello World\n",
      "\n",
      "['Hello World\\n', 'Hello World\\n', 'hello again']\n"
     ]
    }
   ],
   "source": [
    "fs = open(\"abc.txt\", \"r\")\n",
    "print(fs.read())\n",
    "fs.seek(0)\n",
    "print(fs.readline())\n",
    "fs.seek(0)\n",
    "print(fs.readlines())\n",
    "fs.close()\n",
    "\n"
   ]
  },
  {
   "cell_type": "code",
   "execution_count": 9,
   "metadata": {},
   "outputs": [],
   "source": [
    "with open(\"abc.txt\",\"+a\") as file:\n",
    "    file.write(\"hello again\")"
   ]
  },
  {
   "cell_type": "code",
   "execution_count": 16,
   "metadata": {},
   "outputs": [],
   "source": [
    "with open(\"abc.txt\",\"w\") as f:\n",
    "    f.writelines([\"first line\\n\",\"secound line\\n\",\"third line\\n\"])"
   ]
  },
  {
   "cell_type": "markdown",
   "metadata": {},
   "source": [
    "### reading a json file\n",
    "Json - javaScript Object Notation"
   ]
  },
  {
   "cell_type": "code",
   "execution_count": 21,
   "metadata": {},
   "outputs": [
    {
     "name": "stdout",
     "output_type": "stream",
     "text": [
      "{'name': 'John Doe', 'age': 30, 'city': 'New York'}\n",
      "{'name': 'Jane Smith', 'age': 25, 'city': 'Los Angeles'}\n",
      "{'name': 'Sam Brown', 'age': 22, 'city': 'Chicago'}\n",
      "{'name': 'Emily Davis', 'age': 28, 'city': 'Houston'}\n",
      "{'name': 'Michael Johnson', 'age': 35, 'city': 'Phoenix'}\n",
      "{'name': 'Sarah Wilson', 'age': 27, 'city': 'Philadelphia'}\n",
      "{'name': 'David Lee', 'age': 32, 'city': 'San Antonio'}\n",
      "{'name': 'Laura Martinez', 'age': 29, 'city': 'San Diego'}\n"
     ]
    }
   ],
   "source": [
    "import json\n",
    "data = [\n",
    "    {\n",
    "    \"name\":\"Jai\",\n",
    "    \"age\":18\n",
    "},\n",
    "    {\n",
    "    \"name\":\"Jai\",\n",
    "    \"age\":18\n",
    "},\n",
    "    {\n",
    "    \"name\":\"Jai\",\n",
    "    \"age\":18\n",
    "},\n",
    "    {\n",
    "    \"name\":\"Jai\",\n",
    "    \"age\":18\n",
    "},\n",
    "]\n",
    "# with open(\"data.json\",\"w\") as file:\n",
    "#     json.dump(data,file)\n",
    "\n",
    "with open(\"data.json\",\"r\") as file:\n",
    "    content = json.load(file)\n",
    "    for obj in content :\n",
    "        print(obj)"
   ]
  }
 ],
 "metadata": {
  "kernelspec": {
   "display_name": "notebookenv",
   "language": "python",
   "name": "python3"
  },
  "language_info": {
   "codemirror_mode": {
    "name": "ipython",
    "version": 3
   },
   "file_extension": ".py",
   "mimetype": "text/x-python",
   "name": "python",
   "nbconvert_exporter": "python",
   "pygments_lexer": "ipython3",
   "version": "3.13.1"
  }
 },
 "nbformat": 4,
 "nbformat_minor": 2
}
