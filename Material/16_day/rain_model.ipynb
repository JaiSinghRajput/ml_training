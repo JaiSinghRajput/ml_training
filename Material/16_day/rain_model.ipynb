{
 "cells": [
  {
   "cell_type": "code",
   "execution_count": null,
   "id": "873b357b",
   "metadata": {},
   "outputs": [],
   "source": [
    "import pandas as pd\n",
    "import seaborn as sns\n",
    "import matplotlib.pyplot as plt\n",
    "from sklearn.utils import resample\n",
    "import warnings\n",
    "import numpy as np"
   ]
  },
  {
   "cell_type": "code",
   "execution_count": null,
   "id": "e965991f",
   "metadata": {},
   "outputs": [],
   "source": [
    "warnings.filterwarnings(\"ignore\")\n",
    "data = pd.read_csv(\"weatherAUS.csv\")"
   ]
  },
  {
   "cell_type": "code",
   "execution_count": null,
   "id": "10c5d784",
   "metadata": {},
   "outputs": [],
   "source": [
    "data.shape\n",
    "data.info()\n",
    "data.head()"
   ]
  },
  {
   "cell_type": "code",
   "execution_count": null,
   "id": "619d6246",
   "metadata": {},
   "outputs": [],
   "source": [
    "data[\"RainToday\"].replace({\"No\": 0, \"Yes\": 1}, inplace=True)\n",
    "data[\"RainTomorrow\"].replace({\"No\": 0, \"Yes\": 1}, inplace=True)"
   ]
  },
  {
   "cell_type": "code",
   "execution_count": null,
   "id": "39c3e8e5",
   "metadata": {},
   "outputs": [],
   "source": [
    "fig = plt.figure(figsize=(10, 6))\n",
    "data.RainTomorrow.value_counts().plot(kind=\"bar\", color=[\"blue\", \"orange\"])\n",
    "plt.title(\"Rain Tomorrow\")\n",
    "plt.xlabel(\"Rain Tomorrow\")\n",
    "plt.ylabel(\"Count\")\n",
    "plt.xticks([0, 1], [\"No\", \"Yes\"], rotation=0)\n",
    "plt.show()\n",
    "\n"
   ]
  },
  {
   "cell_type": "code",
   "execution_count": null,
   "id": "c0ff2430",
   "metadata": {},
   "outputs": [],
   "source": [
    "rain_no = data[data[\"RainTomorrow\"] == 0]\n",
    "rain_yes = data[data[\"RainTomorrow\"] == 1]\n",
    "yes_oversampled = resample(rain_yes,\n",
    "                          replace=True,  # sample with replacement\n",
    "                          n_samples=len(rain_no),  # to match majority class\n",
    "                          random_state=123)  # reproducible results\n",
    "over_sampled = pd.concat([rain_no, yes_oversampled])"
   ]
  },
  {
   "cell_type": "code",
   "execution_count": null,
   "id": "41b76cd5",
   "metadata": {},
   "outputs": [],
   "source": [
    "fig = plt.figure(figsize=(10, 6))\n",
    "over_sampled.RainTomorrow.value_counts().plot(kind=\"bar\", color=[\"blue\", \"orange\"])\n",
    "plt.title(\"Rain Tomorrow (Oversampled)\")\n",
    "plt.xlabel(\"Rain Tomorrow\")\n",
    "plt.ylabel(\"Count\")\n",
    "plt.xticks([0, 1], [\"No\", \"Yes\"], rotation=0)\n",
    "plt.show()"
   ]
  },
  {
   "cell_type": "code",
   "execution_count": null,
   "id": "16d114d1",
   "metadata": {},
   "outputs": [],
   "source": [
    "### missing values heatmap\n",
    "plt.figure(figsize=(12, 8))\n",
    "sns.heatmap(data.isnull(), cbar=False)\n",
    "plt.title(\"Missing Values Heatmap\")"
   ]
  },
  {
   "cell_type": "code",
   "execution_count": null,
   "id": "a578e00d",
   "metadata": {},
   "outputs": [],
   "source": [
    "# dealing with missing values\n",
    "total = over_sampled.isnull().sum().sort_values(ascending=False)\n",
    "percent = (over_sampled.isnull().sum() / over_sampled.isnull().count()).sort_values(ascending=False)\n",
    "missing = pd.concat([total, percent.map(\"{:.3f}\".format)], axis=1, keys=[\"Total\", \"Percent\"])\n",
    "missing.head(20)"
   ]
  },
  {
   "cell_type": "code",
   "execution_count": null,
   "id": "fb034994",
   "metadata": {},
   "outputs": [],
   "source": [
    "# transforming null values\n",
    "over_sampled[\"RainToday\"].fillna(over_sampled[\"RainToday\"].mode()[0], inplace=True)\n",
    "over_sampled[\"RainTomorrow\"].fillna(over_sampled[\"RainToday\"].mode()[0], inplace=True)"
   ]
  },
  {
   "cell_type": "code",
   "execution_count": null,
   "id": "ecfe05b9",
   "metadata": {},
   "outputs": [],
   "source": [
    "## input categorical values with mode\n",
    "over_sampled[\"Date\"] = over_sampled[\"Date\"].fillna(over_sampled[\"Date\"].mode()[0])\n",
    "over_sampled[\"WindGustDir\"] = over_sampled[\"WindGustDir\"].fillna(over_sampled[\"WindGustDir\"].mode()[0])\n",
    "over_sampled[\"Location\"] = over_sampled[\"Location\"].fillna(over_sampled[\"Location\"].mode()[0])\n",
    "over_sampled[\"WindDir9am\"] = over_sampled[\"WindDir9am\"].fillna(over_sampled[\"WindDir9am\"].mode()[0])\n",
    "over_sampled[\"WindDir3pm\"] = over_sampled[\"WindDir3pm\"].fillna(over_sampled[\"WindDir3pm\"].mode()[0])\n"
   ]
  },
  {
   "cell_type": "code",
   "execution_count": null,
   "id": "86d90c1d",
   "metadata": {},
   "outputs": [],
   "source": [
    "from sklearn.preprocessing import LabelEncoder\n",
    "cat_col = over_sampled.select_dtypes(include=[\"object\"]).columns.tolist()\n",
    "lencoder ={}\n",
    "for col in cat_col:\n",
    "    lencoder[col] = LabelEncoder()\n",
    "    over_sampled[col] = lencoder[col].fit_transform(over_sampled[col])\n",
    "# check if there are any missing values left\n",
    "over_sampled.isna().sum()  # should be 0"
   ]
  },
  {
   "cell_type": "code",
   "execution_count": null,
   "id": "f5c1c86d",
   "metadata": {},
   "outputs": [],
   "source": [
    "from sklearn.experimental import enable_iterative_imputer \n",
    "from sklearn.impute import IterativeImputer\n",
    "MiceImputes = over_sampled.copy(deep=True)\n",
    "Mice_imputer = IterativeImputer(max_iter=10, random_state=0)\n",
    "MiceImputes.iloc[:, :] = Mice_imputer.fit_transform(over_sampled)"
   ]
  },
  {
   "cell_type": "code",
   "execution_count": null,
   "id": "e2f3e6d4",
   "metadata": {},
   "outputs": [],
   "source": [
    "MiceImputes.isna().sum()  # should be 0\n",
    "# check the data types"
   ]
  },
  {
   "cell_type": "code",
   "execution_count": null,
   "id": "2a12697b",
   "metadata": {},
   "outputs": [],
   "source": [
    "## outliers Treatment\n",
    "Q1 = MiceImputes.quantile(0.25)\n",
    "Q3 = MiceImputes.quantile(0.75)\n",
    "IQR = Q3 - Q1\n",
    "MiceImputes = MiceImputes[~((MiceImputes < (Q1 - 1.5 * IQR)) | (MiceImputes > (Q3 + 1.5 * IQR))).any(axis=1)]"
   ]
  },
  {
   "cell_type": "code",
   "execution_count": null,
   "id": "bb0308de",
   "metadata": {},
   "outputs": [],
   "source": [
    "MiceImputes.shape"
   ]
  },
  {
   "cell_type": "code",
   "execution_count": null,
   "id": "b2856681",
   "metadata": {},
   "outputs": [],
   "source": [
    "# corelation heatmap\n",
    "plt.figure(figsize=(20, 20))\n",
    "sns.heatmap(MiceImputes.corr(), annot=True, fmt=\".2f\", cmap=\"coolwarm\")\n",
    "plt.title(\"Correlation Heatmap\")\n",
    "plt.show()\n",
    "\n",
    "corr = MiceImputes.corr()\n",
    "plt.figure(figsize=(20, 20))\n",
    "mask = np.triu(np.ones_like(corr, dtype=bool))\n",
    "f ,ax = plt.subplots(figsize=(20, 20))\n",
    "cmap = sns.diverging_palette(230, 20, as_cmap=True)\n",
    "sns.heatmap(corr, mask=mask, cmap=cmap, vmax=.3, center=0,annot=True, fmt=\".2f\",\n",
    "            square=True, linewidths=.5, cbar_kws={\"shrink\": .9})\n",
    "plt.title(\"Correlation Heatmap\")"
   ]
  },
  {
   "cell_type": "code",
   "execution_count": null,
   "id": "6878ac2f",
   "metadata": {},
   "outputs": [],
   "source": [
    "# sns.pairplot(MiceImputes, hue=\"RainTomorrow\", diag_kind=\"kde\", palette=\"husl\")"
   ]
  },
  {
   "cell_type": "code",
   "execution_count": null,
   "id": "c442b23d",
   "metadata": {},
   "outputs": [],
   "source": [
    "from sklearn.preprocessing import StandardScaler\n",
    "r_scaler = StandardScaler()\n",
    "r_scaler.fit(MiceImputes)\n",
    "modified_data = pd.DataFrame(r_scaler.transform(MiceImputes), index=MiceImputes.index, columns=MiceImputes.columns)\n",
    "modified_data.head()"
   ]
  },
  {
   "cell_type": "code",
   "execution_count": null,
   "id": "df86eac8",
   "metadata": {},
   "outputs": [],
   "source": [
    "from sklearn.feature_selection import SelectKBest,chi2\n",
    "x = modified_data.loc[:, modified_data.columns != \"RainTomorrow\"]\n",
    "y = modified_data.loc[:, modified_data.columns == \"RainTomorrow\"]\n",
    "selector = SelectKBest(chi2, k=10,)\n",
    "x_new = selector.fit_transform(x, y)"
   ]
  }
 ],
 "metadata": {
  "kernelspec": {
   "display_name": ".venv",
   "language": "python",
   "name": "python3"
  },
  "language_info": {
   "codemirror_mode": {
    "name": "ipython",
    "version": 3
   },
   "file_extension": ".py",
   "mimetype": "text/x-python",
   "name": "python",
   "nbconvert_exporter": "python",
   "pygments_lexer": "ipython3",
   "version": "3.13.1"
  }
 },
 "nbformat": 4,
 "nbformat_minor": 5
}
