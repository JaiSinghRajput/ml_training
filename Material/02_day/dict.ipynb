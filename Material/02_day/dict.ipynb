{
 "cells": [
  {
   "cell_type": "code",
   "execution_count": 20,
   "metadata": {},
   "outputs": [
    {
     "name": "stdout",
     "output_type": "stream",
     "text": [
      "dict_items([('a', 1), ('b', 2), ('c', 3), ('d', 4)])\n",
      "dict_values([1, 2, 3, 4])\n",
      "dict_keys(['a', 'b', 'c', 'd'])\n"
     ]
    },
    {
     "data": {
      "text/plain": [
       "('d', 4)"
      ]
     },
     "execution_count": 20,
     "metadata": {},
     "output_type": "execute_result"
    }
   ],
   "source": [
    "dct = {\n",
    "    'a': 1,\n",
    "    'b': 2,\n",
    "    'c': 4,\n",
    "}\n",
    "dct.update({\n",
    "    'c': 3,'d':4 })\n",
    "print(dct.items())\n",
    "print(dct.values())\n",
    "print(dct.keys())\n",
    "dct.popitem()"
   ]
  },
  {
   "cell_type": "code",
   "execution_count": 8,
   "metadata": {},
   "outputs": [
    {
     "name": "stdout",
     "output_type": "stream",
     "text": [
      "{'name': 'noob', 'age': 18}\n"
     ]
    }
   ],
   "source": [
    "name = dict(name=\"noob\",age=18)\n",
    "\n"
   ]
  }
 ],
 "metadata": {
  "kernelspec": {
   "display_name": "notebookenv",
   "language": "python",
   "name": "python3"
  },
  "language_info": {
   "codemirror_mode": {
    "name": "ipython",
    "version": 3
   },
   "file_extension": ".py",
   "mimetype": "text/x-python",
   "name": "python",
   "nbconvert_exporter": "python",
   "pygments_lexer": "ipython3",
   "version": "3.13.1"
  }
 },
 "nbformat": 4,
 "nbformat_minor": 2
}
