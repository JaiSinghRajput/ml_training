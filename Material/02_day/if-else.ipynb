{
 "cells": [
  {
   "cell_type": "code",
   "execution_count": 11,
   "metadata": {},
   "outputs": [
    {
     "name": "stdout",
     "output_type": "stream",
     "text": [
      "Hey Jai here!!\n"
     ]
    }
   ],
   "source": [
    "# if . elif , else\n",
    "a = 10\n",
    "b = 10\n",
    "if a>b :\n",
    "    print(\"helllo\")\n",
    "elif b==a :\n",
    "    print(\"Hey Jai here!!\")\n",
    "else:\n",
    "    print(\"bye\")"
   ]
  },
  {
   "cell_type": "code",
   "execution_count": 17,
   "metadata": {},
   "outputs": [
    {
     "name": "stdout",
     "output_type": "stream",
     "text": [
      "jai\n",
      "<class 'str'>\n",
      "18\n",
      "<class 'int'>\n"
     ]
    }
   ],
   "source": [
    "# user input \n",
    "\n",
    "name = input(\"enter your name: \")\n",
    "age = int(input(\"enter your age: \"))\n",
    "print(name)\n",
    "print(type(name))\n",
    "print(age)\n",
    "print(type(age))"
   ]
  },
  {
   "cell_type": "code",
   "execution_count": 18,
   "metadata": {},
   "outputs": [
    {
     "name": "stdout",
     "output_type": "stream",
     "text": [
      "number is even\n"
     ]
    }
   ],
   "source": [
    "# even odd \n",
    "\n",
    "number = int(input(\"enter a number to check even or odd : \"))\n",
    "if(number%2==0):\n",
    "    print(\"number is even\")\n",
    "else:\n",
    "    print(\"number is odd \")"
   ]
  },
  {
   "cell_type": "code",
   "execution_count": 22,
   "metadata": {},
   "outputs": [
    {
     "name": "stdout",
     "output_type": "stream",
     "text": [
      "number is not prime\n"
     ]
    }
   ],
   "source": [
    "num = int(input(\"enter a number to check it is prime or not : \"))\n",
    "if num%6==5 or num%6==1:\n",
    "    print(\"number is prime\")\n",
    "else :\n",
    "    print(\"number is not prime\")"
   ]
  },
  {
   "cell_type": "code",
   "execution_count": 24,
   "metadata": {},
   "outputs": [
    {
     "name": "stdout",
     "output_type": "stream",
     "text": [
      "3\n"
     ]
    }
   ],
   "source": []
  }
 ],
 "metadata": {
  "kernelspec": {
   "display_name": "notebookenv",
   "language": "python",
   "name": "python3"
  },
  "language_info": {
   "codemirror_mode": {
    "name": "ipython",
    "version": 3
   },
   "file_extension": ".py",
   "mimetype": "text/x-python",
   "name": "python",
   "nbconvert_exporter": "python",
   "pygments_lexer": "ipython3",
   "version": "3.13.1"
  }
 },
 "nbformat": 4,
 "nbformat_minor": 2
}
