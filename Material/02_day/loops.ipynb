{
 "cells": [
  {
   "cell_type": "markdown",
   "metadata": {},
   "source": [
    "### for loop \n",
    "- iterate over the sequences \n",
    "- i.e string , list , tuple , set , dict\n"
   ]
  },
  {
   "cell_type": "code",
   "execution_count": 6,
   "metadata": {},
   "outputs": [
    {
     "name": "stdout",
     "output_type": "stream",
     "text": [
      "name ->  jai\n",
      "age ->  18\n",
      "friend ->  priyanshu\n"
     ]
    }
   ],
   "source": [
    "dct = {\n",
    "    \"name\":\"jai\",\n",
    "    \"age\":18,\n",
    "    \"friend\":\"priyanshu\"\n",
    "}\n",
    "\n",
    "for i,j in dct.items() :\n",
    "    print(i,\"-> \",j)\n",
    "for i in dct:\n",
    "    print(i,\"-> \",dct[j])\n"
   ]
  },
  {
   "cell_type": "code",
   "execution_count": 7,
   "metadata": {},
   "outputs": [
    {
     "name": "stdout",
     "output_type": "stream",
     "text": [
      "1\n",
      "2\n",
      "3\n",
      "True\n",
      "hello\n",
      "hey\n"
     ]
    }
   ],
   "source": [
    "lst = [1,2,3,True,\"hello\",\"hey\"]\n",
    "for i in lst:\n",
    "    print(i)"
   ]
  },
  {
   "cell_type": "code",
   "execution_count": 8,
   "metadata": {},
   "outputs": [
    {
     "name": "stdout",
     "output_type": "stream",
     "text": [
      "1 red\n",
      "1 black\n",
      "1 green\n",
      "2 red\n",
      "2 black\n",
      "2 green\n",
      "3 red\n",
      "3 black\n",
      "3 green\n"
     ]
    }
   ],
   "source": [
    "ls1 = [1,2,3]\n",
    "ls2=[\"red\",\"black\",\"green\"]\n",
    "for i in ls1:\n",
    "    for j in ls2:\n",
    "        print(i,j)"
   ]
  }
 ],
 "metadata": {
  "kernelspec": {
   "display_name": "notebookenv",
   "language": "python",
   "name": "python3"
  },
  "language_info": {
   "codemirror_mode": {
    "name": "ipython",
    "version": 3
   },
   "file_extension": ".py",
   "mimetype": "text/x-python",
   "name": "python",
   "nbconvert_exporter": "python",
   "pygments_lexer": "ipython3",
   "version": "3.13.1"
  }
 },
 "nbformat": 4,
 "nbformat_minor": 2
}
