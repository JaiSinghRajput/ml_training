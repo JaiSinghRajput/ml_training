{
 "cells": [
  {
   "cell_type": "code",
   "execution_count": null,
   "metadata": {},
   "outputs": [],
   "source": [
    "def hello(h): # here h is perameter (template variable)\n",
    "    print(\"hello this is first function ..\",h)\n",
    "\n",
    "hel = \"jai\"\n",
    "hello(hel) # here hel is the argument variable to the hello function"
   ]
  },
  {
   "cell_type": "markdown",
   "metadata": {},
   "source": [
    "# arbritrary arguments \n",
    " - when we dont know how many number of argument are passed in calling of function"
   ]
  },
  {
   "cell_type": "code",
   "execution_count": 9,
   "metadata": {},
   "outputs": [
    {
     "name": "stdout",
     "output_type": "stream",
     "text": [
      "hello  jai\n",
      "hello  priyanshu\n",
      "hello  mohit\n",
      "hello  1\n"
     ]
    }
   ],
   "source": [
    "def argfun(*val):\n",
    "    for i in val:\n",
    "        print(\"hello \",i)\n",
    "argfun(\"jai\",\"priyanshu\",\"mohit\",1)\n"
   ]
  },
  {
   "cell_type": "code",
   "execution_count": 14,
   "metadata": {},
   "outputs": [
    {
     "name": "stdout",
     "output_type": "stream",
     "text": [
      "your age is 29\n",
      "your age 20 is 29\n"
     ]
    }
   ],
   "source": [
    "age = 29\n",
    "val = 20\n",
    "text = f\"your age is {age}\"\n",
    "text2 = \"your age {1} is {0}\".format(age,val)\n",
    "print(text)\n",
    "print(text2)\n"
   ]
  },
  {
   "cell_type": "markdown",
   "metadata": {},
   "source": [
    "# keyword arguments\n",
    "- passes the arguments in form of key value pairs "
   ]
  },
  {
   "cell_type": "code",
   "execution_count": 1,
   "metadata": {},
   "outputs": [
    {
     "name": "stdout",
     "output_type": "stream",
     "text": [
      "the value of a=10,b=3,c=20\n"
     ]
    }
   ],
   "source": [
    "def funn(a=1,b=3,c=5):\n",
    "    print(f\"the value of a={a},b={b},c={c}\")\n",
    "funn(a=10,c=20,b=40)"
   ]
  },
  {
   "cell_type": "markdown",
   "metadata": {},
   "source": [
    "# arbitrary keyword arguments \n",
    "- represented by `**`"
   ]
  },
  {
   "cell_type": "code",
   "execution_count": 2,
   "metadata": {},
   "outputs": [
    {
     "name": "stdout",
     "output_type": "stream",
     "text": [
      "the youngest child is  jai\n"
     ]
    }
   ],
   "source": [
    "def children(**keyargs):\n",
    "    print(\"the youngest child is \",keyargs[\"fname\"])\n",
    "children(fname=\"jai\")"
   ]
  },
  {
   "cell_type": "markdown",
   "metadata": {},
   "source": [
    "# default perameter value\n",
    "- when it is not sure the calling of function pass the argument or not we can give a default value\n"
   ]
  },
  {
   "cell_type": "code",
   "execution_count": 3,
   "metadata": {},
   "outputs": [
    {
     "name": "stdout",
     "output_type": "stream",
     "text": [
      "my country is  India\n",
      "my country is  usa\n"
     ]
    }
   ],
   "source": [
    "def  country(name=\"India\"):\n",
    "    print(\"my country is \",name)\n",
    "country()\n",
    "country(\"usa\")"
   ]
  },
  {
   "cell_type": "code",
   "execution_count": 7,
   "metadata": {},
   "outputs": [
    {
     "name": "stdout",
     "output_type": "stream",
     "text": [
      "average of give values is : 4.166666666666667\n"
     ]
    }
   ],
   "source": [
    "# create a function to calculate average\n",
    "def avg(*lst):\n",
    "    print(f\"average of give values is : {sum(lst)/len(lst)}\")\n",
    "avg(1,2,3,5,6,8)"
   ]
  },
  {
   "cell_type": "code",
   "execution_count": 12,
   "metadata": {},
   "outputs": [
    {
     "data": {
      "text/plain": [
       "[1, 4, 9, 16, 25]"
      ]
     },
     "execution_count": 12,
     "metadata": {},
     "output_type": "execute_result"
    }
   ],
   "source": [
    "##list square of each element need return in list\n",
    "def funSqr(iplst):\n",
    "    oplst=[]\n",
    "    for i in iplst:\n",
    "        oplst.append(i**2)\n",
    "    return oplst\n",
    "\n",
    "lst = [1,2,3,4,5]\n",
    "funSqr(lst)\n",
    "\n"
   ]
  },
  {
   "cell_type": "code",
   "execution_count": 21,
   "metadata": {},
   "outputs": [
    {
     "name": "stdout",
     "output_type": "stream",
     "text": [
      "[1, 4, 9, 16, 25]\n",
      "[5, 6, 7]\n"
     ]
    }
   ],
   "source": [
    "# lambda function with map\n",
    "sqr = lambda a: a**2\n",
    "lst = [1,2,3,4,5]\n",
    "sqr_list = list(map(sqr,lst))\n",
    "print(sqr_list)\n",
    "\n",
    "n = lambda a:a>4\n",
    "abc =[1,2,3,4,5,6,7,1]\n",
    "lb = list(filter(n,abc))\n",
    "print(lb)"
   ]
  },
  {
   "cell_type": "code",
   "execution_count": 23,
   "metadata": {},
   "outputs": [
    {
     "data": {
      "text/plain": [
       "56"
      ]
     },
     "execution_count": 23,
     "metadata": {},
     "output_type": "execute_result"
    }
   ],
   "source": [
    "lll=[1,2,3,4,5,6]\n",
    "x = lambda l:max(l)\n",
    "x([10,20,56])\n"
   ]
  },
  {
   "cell_type": "code",
   "execution_count": 25,
   "metadata": {},
   "outputs": [
    {
     "name": "stdout",
     "output_type": "stream",
     "text": [
      "169\n"
     ]
    }
   ],
   "source": [
    "from functools import reduce\n",
    "lst =[1,2,4,5,67,5,34,45,6]\n",
    "newl = reduce(lambda a,b:a+b,lst)\n",
    "print(newl)"
   ]
  },
  {
   "cell_type": "code",
   "execution_count": 26,
   "metadata": {},
   "outputs": [
    {
     "data": {
      "text/plain": [
       "[(0, 'python'), (1, 'c'), (2, 'c++'), (3, 'java')]"
      ]
     },
     "execution_count": 26,
     "metadata": {},
     "output_type": "execute_result"
    }
   ],
   "source": [
    "name = [\"python\",\"c\",\"c++\",\"java\"]\n",
    "list(enumerate(name))"
   ]
  }
 ],
 "metadata": {
  "kernelspec": {
   "display_name": "notebookenv",
   "language": "python",
   "name": "python3"
  },
  "language_info": {
   "codemirror_mode": {
    "name": "ipython",
    "version": 3
   },
   "file_extension": ".py",
   "mimetype": "text/x-python",
   "name": "python",
   "nbconvert_exporter": "python",
   "pygments_lexer": "ipython3",
   "version": "3.13.1"
  }
 },
 "nbformat": 4,
 "nbformat_minor": 2
}
